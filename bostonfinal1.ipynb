{
 "cells": [
  {
   "cell_type": "code",
   "execution_count": 2,
   "metadata": {},
   "outputs": [],
   "source": [
    "import numpy as np\n",
    "from sklearn import preprocessing\n",
    "import matplotlib.pyplot as plt"
   ]
  },
  {
   "cell_type": "code",
   "execution_count": 3,
   "metadata": {},
   "outputs": [],
   "source": [
    "def cost(X, Y, m):\n",
    "    totalCost = 0\n",
    "    N = len(X[:, 0])\n",
    "    for i in range(N):\n",
    "        totalCost += (Y[i] - (m*X[i]).sum())**2\n",
    "        \n",
    "    return totalCost/N"
   ]
  },
  {
   "cell_type": "code",
   "execution_count": 4,
   "metadata": {},
   "outputs": [],
   "source": [
    "def stepGradient(x_train, y_train,alpha,m):\n",
    "    m_slopes = np.zeros(len(m))\n",
    "    N = x_train.shape[0]\n",
    "    M = x_train.shape[1]\n",
    "    \n",
    "    #print(x_train[0])\n",
    "    for i in range(N):\n",
    "        for j in range(M):\n",
    "            m_slopes[j] += (-2/N)*(y_train[i] - (m*x_train[i]).sum())*x_train[i][j]\n",
    "    m = m - alpha*m_slopes\n",
    "    return m "
   ]
  },
  {
   "cell_type": "code",
   "execution_count": 5,
   "metadata": {},
   "outputs": [],
   "source": [
    "def gradientDescent(X, Y, learningRate, n):\n",
    "    m = np.zeros(len(X[0]))\n",
    "    cst = []\n",
    "    itr = []\n",
    "    for i in range(n):\n",
    "        m = stepGradient(X, Y, learningRate, m)\n",
    "        c = cost(X, Y, m)\n",
    "        cst.append(c)\n",
    "        itr.append(i + 1)\n",
    "        print(\"Cost \", i + 1, \":\", c)\n",
    "        \n",
    "    return m, cst, itr"
   ]
  },
  {
   "cell_type": "code",
   "execution_count": 6,
   "metadata": {},
   "outputs": [],
   "source": [
    "def predict(X, m):\n",
    "    N = len(X[:, 0])\n",
    "    print(N)\n",
    "    Y = np.zeros(N)\n",
    "    for i in range(N):\n",
    "        Y[i] = (X[i] * m).sum()\n",
    "        \n",
    "    return Y"
   ]
  },
  {
   "cell_type": "code",
   "execution_count": 7,
   "metadata": {},
   "outputs": [
    {
     "name": "stdout",
     "output_type": "stream",
     "text": [
      "(379, 14)\n",
      "(379, 13)\n"
     ]
    }
   ],
   "source": [
    "data = np.loadtxt(\"/Users/abhi99/Downloads/0000000000002417_training_boston_x_y_train.csv\", delimiter = ',')\n",
    "print(data.shape)\n",
    "train = data.copy()\n",
    "X = train[:,:-1]\n",
    "Y = train[:,-1:]\n",
    "\n",
    "print(X.shape)\n",
    "#print(data[0])\n",
    "#print(X[0])\n",
    "#print(Y[0])"
   ]
  },
  {
   "cell_type": "code",
   "execution_count": 8,
   "metadata": {},
   "outputs": [],
   "source": [
    "scaler = preprocessing.StandardScaler()\n",
    "# scaler.fit(X)\n",
    "# X_scaled = scaler.transform(X)\n",
    "#print(X_scaled.mean(axis = 0))\n",
    "\n",
    "\n",
    "Z = np.ones((len(X[:, 0]), len(X[0]) + 1))\n",
    "Z[:,:-1] = X\n",
    "X_scaled = Z\n",
    "#print(Z.shape)\n",
    "#print(X_scaled.shape)\n",
    "#print(Z[0])\n",
    "#print(X_scaled[0])"
   ]
  },
  {
   "cell_type": "code",
   "execution_count": 9,
   "metadata": {},
   "outputs": [
    {
     "name": "stdout",
     "output_type": "stream",
     "text": [
      "Cost  1 : [329.52072559]\n",
      "Cost  2 : [188.422041]\n",
      "Cost  3 : [113.6645619]\n",
      "Cost  4 : [73.62718235]\n",
      "Cost  5 : [51.968773]\n",
      "Cost  6 : [40.13289573]\n",
      "Cost  7 : [33.59043351]\n",
      "Cost  8 : [29.92244547]\n",
      "Cost  9 : [27.82727015]\n",
      "Cost  10 : [26.59990051]\n",
      "Cost  11 : [25.8562131]\n",
      "Cost  12 : [25.38568196]\n",
      "Cost  13 : [25.07218176]\n",
      "Cost  14 : [24.8511649]\n",
      "Cost  15 : [24.6863972]\n",
      "Cost  16 : [24.55726687]\n",
      "Cost  17 : [24.45183463]\n",
      "Cost  18 : [24.36301323]\n",
      "Cost  19 : [24.28645824]\n",
      "Cost  20 : [24.21939796]\n",
      "Cost  21 : [24.15997993]\n",
      "Cost  22 : [24.10690304]\n",
      "Cost  23 : [24.05920787]\n",
      "Cost  24 : [24.01615546]\n",
      "Cost  25 : [23.97715556]\n",
      "Cost  26 : [23.94172317]\n",
      "Cost  27 : [23.90945107]\n",
      "Cost  28 : [23.87999199]\n",
      "Cost  29 : [23.85304631]\n",
      "Cost  30 : [23.82835335]\n",
      "Cost  31 : [23.80568482]\n",
      "Cost  32 : [23.78483984]\n",
      "Cost  33 : [23.7656409]\n",
      "Cost  34 : [23.74793067]\n",
      "Cost  35 : [23.73156925]\n",
      "Cost  36 : [23.71643198]\n",
      "Cost  37 : [23.70240751]\n",
      "Cost  38 : [23.68939616]\n",
      "Cost  39 : [23.67730856]\n",
      "Cost  40 : [23.66606441]\n",
      "Cost  41 : [23.65559146]\n",
      "Cost  42 : [23.64582461]\n",
      "Cost  43 : [23.63670509]\n",
      "Cost  44 : [23.62817977]\n",
      "Cost  45 : [23.62020059]\n",
      "Cost  46 : [23.61272397]\n",
      "Cost  47 : [23.60571041]\n",
      "Cost  48 : [23.59912398]\n",
      "Cost  49 : [23.59293204]\n",
      "Cost  50 : [23.58710485]\n",
      "Cost  51 : [23.58161531]\n",
      "Cost  52 : [23.57643871]\n",
      "Cost  53 : [23.57155244]\n",
      "Cost  54 : [23.56693587]\n",
      "Cost  55 : [23.56257009]\n",
      "Cost  56 : [23.55843779]\n",
      "Cost  57 : [23.55452308]\n",
      "Cost  58 : [23.5508114]\n",
      "Cost  59 : [23.54728933]\n",
      "Cost  60 : [23.54394457]\n",
      "Cost  61 : [23.54076575]\n",
      "Cost  62 : [23.53774244]\n",
      "Cost  63 : [23.53486497]\n",
      "Cost  64 : [23.53212445]\n",
      "Cost  65 : [23.52951263]\n",
      "Cost  66 : [23.52702189]\n",
      "Cost  67 : [23.52464518]\n",
      "Cost  68 : [23.52237596]\n",
      "Cost  69 : [23.52020813]\n",
      "Cost  70 : [23.51813608]\n",
      "Cost  71 : [23.51615453]\n",
      "Cost  72 : [23.51425862]\n",
      "Cost  73 : [23.51244378]\n",
      "Cost  74 : [23.51070576]\n",
      "Cost  75 : [23.50904061]\n",
      "Cost  76 : [23.50744462]\n",
      "Cost  77 : [23.5059143]\n",
      "Cost  78 : [23.50444643]\n",
      "Cost  79 : [23.50303794]\n",
      "Cost  80 : [23.50168599]\n",
      "Cost  81 : [23.50038788]\n",
      "Cost  82 : [23.49914109]\n",
      "Cost  83 : [23.49794325]\n",
      "Cost  84 : [23.49679212]\n",
      "Cost  85 : [23.49568558]\n",
      "Cost  86 : [23.49462165]\n",
      "Cost  87 : [23.49359845]\n",
      "Cost  88 : [23.49261419]\n",
      "Cost  89 : [23.49166719]\n",
      "Cost  90 : [23.49075586]\n",
      "Cost  91 : [23.4898787]\n",
      "Cost  92 : [23.48903426]\n",
      "Cost  93 : [23.48822118]\n",
      "Cost  94 : [23.48743819]\n",
      "Cost  95 : [23.48668404]\n",
      "Cost  96 : [23.48595757]\n",
      "Cost  97 : [23.48525767]\n",
      "Cost  98 : [23.48458328]\n",
      "Cost  99 : [23.48393339]\n",
      "Cost  100 : [23.48330704]\n",
      "[-0.91670583  0.68400867 -0.13175137  0.79610927 -2.13142574  2.3761225\n",
      "  0.10689847 -2.93994901  2.21736054 -1.34233225 -2.23592807  0.58253038\n",
      " -4.25785135 22.67774151]\n"
     ]
    }
   ],
   "source": [
    "n = 100\n",
    "learningRate = 0.13\n",
    "m, cst, itr = gradientDescent(X_scaled, Y, learningRate, n)\n",
    "print(m)"
   ]
  },
  {
   "cell_type": "code",
   "execution_count": 11,
   "metadata": {},
   "outputs": [
    {
     "data": {
      "image/png": "[encoded data removed]",
      "text/plain": [
       "<Figure size 432x288 with 1 Axes>"
      ]
     },
     "metadata": {
      "needs_background": "light"
     },
     "output_type": "display_data"
    }
   ],
   "source": [
    "plt.plot(cst, itr)\n",
    "plt.show()"
   ]
  },
  {
   "cell_type": "code",
   "execution_count": 12,
   "metadata": {},
   "outputs": [
    {
     "data": {
      "text/plain": [
       "(379, 13)"
      ]
     },
     "execution_count": 12,
     "metadata": {},
     "output_type": "execute_result"
    }
   ],
   "source": [
    "N = len(X[:, 0])\n",
    "M = len(X[0])\n",
    "N, M\n",
    "   "
   ]
  },
  {
   "cell_type": "code",
   "execution_count": 13,
   "metadata": {},
   "outputs": [
    {
     "name": "stdout",
     "output_type": "stream",
     "text": [
      "379\n",
      "(379,)\n",
      "(379, 1)\n"
     ]
    },
    {
     "data": {
      "image/png": "[encoded data removed]",
      "text/plain": [
       "<Figure size 432x288 with 1 Axes>"
      ]
     },
     "metadata": {
      "needs_background": "light"
     },
     "output_type": "display_data"
    }
   ],
   "source": [
    "Y_train = predict(X_scaled, m)\n",
    "print(Y_train.shape)\n",
    "print(Y.shape)\n",
    "plt.scatter(Y, Y_train)\n",
    "plt.show()"
   ]
  },
  {
   "cell_type": "code",
   "execution_count": 14,
   "metadata": {},
   "outputs": [],
   "source": [
    "X_test = np.loadtxt(\"/Users/abhi99/Downloads/0000000000002417_test_boston_x_test.csv\", delimiter = ',')\n",
    "scaler.fit(X_test)\n",
    "X_test = scaler.transform(X_test)\n",
    "\n",
    "Z = np.ones((len(X_test[:, 0]), len(X_test[0]) + 1))\n",
    "Z[:,:-1] = X_test\n",
    "X_test = Z"
   ]
  },
  {
   "cell_type": "code",
   "execution_count": null,
   "metadata": {},
   "outputs": [],
   "source": []
  },
  {
   "cell_type": "code",
   "execution_count": 15,
   "metadata": {},
   "outputs": [
    {
     "name": "stdout",
     "output_type": "stream",
     "text": [
      "127\n"
     ]
    }
   ],
   "source": [
    "Y_test = predict(X_test, m)\n",
    "np.savetxt(\"boston_ypredictfinal.csv\", Y_test)"
   ]
  },
  {
   "cell_type": "code",
   "execution_count": 16,
   "metadata": {},
   "outputs": [
    {
     "name": "stdout",
     "output_type": "stream",
     "text": [
      "[11.37352548 28.68089803 22.50140034 24.00409186 20.7239099   2.13381462\n",
      " 30.31187941 24.75041864 18.56805267 23.5053882  23.97933779 17.52043301\n",
      " 17.02814756 21.40303818 43.25444887 23.51826551 24.26950396 27.70557233\n",
      " 19.76544395 31.38539216 23.92817737 24.84879381 34.15317288 37.0951994\n",
      " 31.67936455 16.2689735  23.43881247 33.05413699 25.47953454 34.43131587\n",
      " 16.64924751 26.06030676 23.38850408 25.268909   14.16316475 29.74881191\n",
      " 26.07989811 20.46057032 23.91094217  8.47868595  7.53011587 28.73736253\n",
      " 29.17927255 19.7941871  20.10314842  2.09337596 39.79122131 25.68582139\n",
      " 29.71286593 16.42130951 17.4907187  40.79593537 17.22297738 21.04419099\n",
      " 15.29042082 21.19734162 18.16338104 23.10487429 13.31678528 16.86897797\n",
      " 13.86900544 29.28791765 25.20857245 25.44399633 16.95659668 16.94579138\n",
      " 34.86855427 16.66701222 27.52523292 22.33675126 29.44249852 27.02080181\n",
      " 17.63638364  4.66311328 36.53796037 24.95521458 30.0134277  27.10682823\n",
      " 15.62012896 32.20267963 19.2071726  22.82133867 22.29617409  7.52922595\n",
      " 16.98621269 29.11681008 26.76428194  5.02997684 21.42860386 19.90495971\n",
      " 21.88474924 20.59280312 20.8584074  12.88709341 19.61569586 26.18846846\n",
      " 40.13655285 19.19486269 33.60128081 26.67535553 28.82545273 21.60903358\n",
      " 26.27462663 31.55586974 16.81209262 26.37128445 21.1597042  36.66788045\n",
      " 21.53841061 16.22247365 27.19205029 -1.23087741 13.67498114 16.19049606\n",
      " 36.00663129 20.95291067 20.6349039  25.23413321 21.52988212 18.84477881\n",
      " 13.12862293 35.5795078  22.98769048 24.56695956 16.78144378 20.88110401\n",
      " 14.53886248]\n"
     ]
    }
   ],
   "source": [
    "print(Y_test)"
   ]
  },
  {
   "cell_type": "code",
   "execution_count": 17,
   "metadata": {},
   "outputs": [
    {
     "name": "stdout",
     "output_type": "stream",
     "text": [
      "[[ 3.88203164 -0.47968561  1.19321481 ... -1.72394297  1.14793924\n",
      "   1.        ]\n",
      " [-0.4496825  -0.47968561  0.54572124 ...  0.41293844 -0.87954882\n",
      "   1.        ]\n",
      " [-0.4624454  -0.47968561  0.23746473 ...  0.41293844 -0.46700418\n",
      "   1.        ]\n",
      " ...\n",
      " [-0.45831967  2.09168571 -1.34873963 ...  0.36041572 -0.656393\n",
      "   1.        ]\n",
      " [-0.4494016  -0.47968561 -0.28455761 ...  0.30708851  0.26852914\n",
      "   1.        ]\n",
      " [-0.09779398 -0.47968561  1.42247091 ... -3.12998863  0.56949587\n",
      "   1.        ]]\n"
     ]
    }
   ],
   "source": [
    "print(X_test)"
   ]
  },
  {
   "cell_type": "code",
   "execution_count": 18,
   "metadata": {},
   "outputs": [
    {
     "name": "stdout",
     "output_type": "stream",
     "text": [
      "[[-0.40784991 -0.48772236 -1.2660231  ...  0.41057102 -1.09799011\n",
      "   1.        ]\n",
      " [-0.40737368 -0.48772236  0.24705682 ...  0.29116915 -0.52047412\n",
      "   1.        ]\n",
      " [ 0.1251786  -0.48772236  1.01599907 ... -3.79579542  0.89107588\n",
      "   1.        ]\n",
      " ...\n",
      " [-0.40831101 -0.48772236  0.24705682 ...  0.33206621 -0.33404299\n",
      "   1.        ]\n",
      " [-0.41061997 -0.48772236 -1.15221381 ...  0.203235   -0.74475218\n",
      "   1.        ]\n",
      " [ 0.34290895 -0.48772236  1.01599907 ...  0.38787479 -1.35871335\n",
      "   1.        ]]\n"
     ]
    }
   ],
   "source": [
    "print(X_scaled)"
   ]
  },
  {
   "cell_type": "code",
   "execution_count": null,
   "metadata": {},
   "outputs": [],
   "source": []
  }
 ],
 "metadata": {
  "kernelspec": {
   "display_name": "Python 3",
   "language": "python",
   "name": "python3"
  },
  "language_info": {
   "codemirror_mode": {
    "name": "ipython",
    "version": 3
   },
   "file_extension": ".py",
   "mimetype": "text/x-python",
   "name": "python",
   "nbconvert_exporter": "python",
   "pygments_lexer": "ipython3",
   "version": "3.7.4"
  }
 },
 "nbformat": 4,
 "nbformat_minor": 2
}
